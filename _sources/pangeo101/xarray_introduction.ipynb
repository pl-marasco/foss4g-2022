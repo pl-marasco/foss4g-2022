{
 "cells": [
  {
   "cell_type": "markdown",
   "id": "dde8b5d5-5bba-4266-8521-3e3e163bef3a",
   "metadata": {},
   "source": [
    "# Handling multi-dimensional arrays with xarray"
   ]
  },
  {
   "cell_type": "markdown",
   "id": "a0d36cd0-7cdc-4e5e-922b-a1979a1c9e7b",
   "metadata": {},
   "source": [
    "## Authors & Contributors\n",
    "\n",
    "### Authors\n",
    "\n",
    "- Pier Lorenzo Marasco, Ispra (Italy), [@pl-marasco](https://github.com/pl-marasco)\n",
    "\n",
    "### Contributors\n",
    "\n",
    "- Alejandro Coca-Castro, The Alan Turing Institute (United Kingdom), [@acocac](https://github.com/acocac)\n",
    "- Anne Fouilloux, University of Oslo (Norway), [@annefou](https://github.com/annefou)\n",
    "- Guillaume Eynard-Bontemps, CNES (France), [@guillaumeeb](https://github.com/guillaumeeb)"
   ]
  },
  {
   "cell_type": "markdown",
   "id": "ec37ef0f-da32-40c7-8320-467c46bfab6a",
   "metadata": {},
   "source": [
    "<div class=\"alert alert-info\">\n",
    "    <i class=\"fa-question-circle fa\" style=\"font-size: 22px;color:#666;\"></i> <b>Overview</b>\n",
    "    <br>\n",
    "    <br>\n",
    "    <b>Questions</b>\n",
    "    <ul>\n",
    "        <li>What is Xarray?</li>\n",
    "        <li>How to open a local file?</li>\n",
    "        <li>How to print metadata information?</li>\n",
    "        <li>How to make a selection?</li>\n",
    "        <li>How to visualize with matplotlib?</li>\n",
    "        <li>How to perform basic computations, statistics and aggregations?</li>\n",
    "        <li>How to mask data?</li>\n",
    "    </ul>\n",
    "    <b>Objectives</b>\n",
    "    <ul>\n",
    "        <li>Learn about Xarray Python ecosystem</li>\n",
    "        <li>Learn file handling with xarray</li>\n",
    "        <li>Learn to get metadata information</li>\n",
    "        <li>Learn to select and mask data</li>\n",
    "        <li>Learn to make basic computations, aggregations and statistics</li>\n",
    "        <li>Learnn to visualize data</li>\n",
    "    </ul>\n",
    "</div>"
   ]
  },
  {
   "cell_type": "markdown",
   "id": "d746c8d3-c818-4c19-bf58-1f29715d9df6",
   "metadata": {},
   "source": [
    "## Context\n",
    "\n",
    "We will be using [Pangeo](https://pangeo.io/) open-source software stack for computing and visualizing the Vegetation Condition Index (VCI) {cite:ps}`kogan1995-VCI`, a well-established indicator to estimate droughts from remote sensing data.\n",
    "\n",
    "VCI compares the current normalized difference vegetation index (NDVI) {cite:ps}`wiki2022-ndvi` to the range of values observed in previous years.\n",
    "\n",
    "### Data\n",
    "\n",
    "In this episode, we will use Sentinel-3 NDVI Analysis Ready Data (ARD) provided by the [Copernicus Global Land Service](https://land.copernicus.eu/global/index.html).\n",
    "\n",
    "This dataset can be discovered through the [OpenEO API](https://openeo.org/) from the CGLS distributor, [VITO](https://vito.be/en/). Access is free of charge but an [EGI registration](https://aai.egi.eu/) is needed.\n",
    "\n",
    "The same dataset can also be downloaded from [Zenodo](https://zenodo.org/): [FOSS4G Training Datasets: NDVI](https://zenodo.org/record/6969999/files/C_GLS_NDVI_20220101_20220701_Lombardia_S3_2.nc)\n",
    "\n",
    "Further info about drought indexes can be found in the Integrated Drought Management Programme (see [here](https://www.droughtmanagement.info/indices/))."
   ]
  },
  {
   "cell_type": "markdown",
   "id": "c341348a-77e3-47bb-aa1a-86982f930c79",
   "metadata": {},
   "source": [
    "## Setup\n",
    "\n",
    "This episode uses the following Python packages:\n",
    "\n",
    "- xarray\n",
    "- netcdf4\n",
    "- h5netcdf\n",
    "- wget\n",
    "- numpy\n",
    "\n",
    "Please install these packages if not already available in your Python environment (see [Setup page](https://pangeo-data.github.io/foss4g-2022/before/setup.html)). Below, we only install packages that are not available in the EGI-ACE EOSC deployment of Pangeo for the FOSS4G course.\n",
    "\n",
    "### Packages\n",
    "\n",
    "In this episode, Python packages are imported when we start to use them. However, for best software practices, we recommend you to install and import all the necessary libraries at the top of your Jupyter notebook."
   ]
  },
  {
   "cell_type": "code",
   "execution_count": null,
   "id": "51c76db6-f5aa-40eb-97f1-2df7cde50e83",
   "metadata": {},
   "outputs": [],
   "source": [
    "import xarray as xr"
   ]
  },
  {
   "cell_type": "markdown",
   "id": "2d9c40c3-44c9-451f-b8ad-fec067c05932",
   "metadata": {},
   "source": [
    "### Fetch Data\n",
    "\n",
    "- For now we will fetch a netCDF file containing Sentinel-3 NDVI Analysis Ready Data (ARD).\n",
    "- The file is available in a Zenodo repository. We will download it using using `pooch`, a very handy Python-based library to download and cache your data files locally (see further info [here](https://www.fatiando.org/pooch/latest/index.html))\n",
    "- Later in this episode, we will learn about different ways to access data, including access to remote data."
   ]
  },
  {
   "cell_type": "code",
   "execution_count": null,
   "id": "08ba3f1d-71ea-42ec-904f-dc2452640590",
   "metadata": {},
   "outputs": [],
   "source": [
    "import pooch"
   ]
  },
  {
   "cell_type": "code",
   "execution_count": null,
   "id": "f247c3cd-7f19-43c8-b721-6b159f401379",
   "metadata": {
    "tags": [
     "hide-output"
    ]
   },
   "outputs": [],
   "source": [
    "cgls_file = pooch.retrieve(\n",
    "    url=\"https://zenodo.org/record/6969999/files/C_GLS_NDVI_20220101_20220701_Lombardia_S3_2.nc\",\n",
    "    known_hash=\"md5:bbb25f1865056c886c6f9b37147d8f2f\",\n",
    "    path=f\".\",\n",
    ")"
   ]
  },
  {
   "cell_type": "markdown",
   "id": "3a1db255-b521-4465-9ffd-0113c48f1fd1",
   "metadata": {},
   "source": [
    "## Open and read metadata through Xarray"
   ]
  },
  {
   "cell_type": "code",
   "execution_count": null,
   "id": "6974bdbf-f874-4b0d-bb9b-13a0161af3b0",
   "metadata": {},
   "outputs": [],
   "source": [
    "cgls_ds = xr.open_dataset(cgls_file)"
   ]
  },
  {
   "cell_type": "markdown",
   "id": "5c51f372-a34e-4cd2-b7bd-72297e43ad44",
   "metadata": {},
   "source": [
    "As the dataset is in NetCDF format Xarray automatically selects the correct engine (this underneath has been\n",
    "conducted through the automatic specification of engine='netcdf'). If the dataset is in geoTiff format the engine would be 'rasterio'.\n",
    "Supposing that you have a dataset in an unrecognised format you can always create your own engine and pass it through the engine parameter."
   ]
  },
  {
   "cell_type": "markdown",
   "id": "915794d5-26e8-4fc5-a033-b6fd9ff90a79",
   "metadata": {},
   "source": [
    ":::{tip}\n",
    "If you get an error with the previous command, first check the location of the input file some_hash-C_GLS_NDVI_20220101_20220701_Lombardia_S3_2.nc: it should have been downloaded in the same directory as your Jupyter Notebook.\n",
    ":::"
   ]
  },
  {
   "cell_type": "code",
   "execution_count": null,
   "id": "e6f834ed-003b-4e89-8672-7f2fd17cfdf6",
   "metadata": {},
   "outputs": [],
   "source": [
    "cgls_ds"
   ]
  },
  {
   "cell_type": "markdown",
   "id": "cda310c7-810b-47aa-b6e8-0006f27acd87",
   "metadata": {},
   "source": [
    "## What is xarray?\n",
    "\n",
    "Xarray introduces labels in the form of dimensions, coordinates and attributes on top of raw NumPy-like multidimensional arrays, which allows for a more intuitive, more concise, and less error-prone developer experience.\n",
    "\n",
    "### How is xarray structured?\n",
    "\n",
    "Xarray has two core data structures, which build upon and extend the core strengths of NumPy and Pandas libraries. Both data structures are fundamentally N-dimensional:\n",
    "\n",
    "- [DataArray](https://docs.xarray.dev/en/stable/generated/xarray.DataArray.html#xarray.DataArray) is the implementation of a labeled, N-dimensional array. It is an N-D generalization of a pandas.Series. The name DataArray itself is borrowed from Fernando Perez’s datarray project, which prototyped a similar data structure.\n",
    "\n",
    "- [Dataset](https://docs.xarray.dev/en/stable/generated/xarray.Dataset.html#xarray.Dataset) is a multi-dimensional, in-memory array database. It is a dict-like container of DataArray objects aligned along any number of shared dimensions, and serves a similar purpose in xarray to the pandas.DataFrame.\n"
   ]
  },
  {
   "cell_type": "markdown",
   "id": "66c2f178-d8f7-423e-ad9e-185b57123fa1",
   "metadata": {},
   "source": [
    "## Accessing Coordinates and Data Variables "
   ]
  },
  {
   "cell_type": "markdown",
   "id": "2e90a7f8-9e70-427f-95e6-5ea5bc022a43",
   "metadata": {},
   "source": [
    "DataArray, within Datasets, can be accessed through:\n",
    "- the dot notation like Dataset.NameofVariable  \n",
    "- or using square brackets like Dataset['NameofVariable'] (NameofVariable needs to be a string so use quotes or double quotes)"
   ]
  },
  {
   "cell_type": "code",
   "execution_count": null,
   "id": "d94d3095-b7ee-438f-8929-aeb081b212db",
   "metadata": {},
   "outputs": [],
   "source": [
    "cgls_ds.t"
   ]
  },
  {
   "cell_type": "markdown",
   "id": "76c26738-cf42-44ed-8294-33df31642394",
   "metadata": {},
   "source": [
    "`cgls_ds.t` is a `xarray.DataArray` with dates of type `datetime64[ns]`"
   ]
  },
  {
   "cell_type": "code",
   "execution_count": null,
   "id": "869169f0-9476-4a1f-ae5a-289fb323a368",
   "metadata": {},
   "outputs": [],
   "source": [
    "cgls_ds.NDVI"
   ]
  },
  {
   "cell_type": "code",
   "execution_count": null,
   "id": "65c051ee-330e-44c0-ac1e-532bf4de26ff",
   "metadata": {},
   "outputs": [],
   "source": [
    "cgls_ds['NDVI']"
   ]
  },
  {
   "cell_type": "markdown",
   "id": "b6967397-f133-427b-9359-55232b3b031a",
   "metadata": {},
   "source": [
    "Same can be achieved for attributes and a DataArray.attrs will return a dictionary."
   ]
  },
  {
   "cell_type": "code",
   "execution_count": null,
   "id": "d547359e-5a25-4023-afe6-b758f3ae8a23",
   "metadata": {},
   "outputs": [],
   "source": [
    "cgls_ds['NDVI'].attrs"
   ]
  },
  {
   "cell_type": "markdown",
   "id": "e948fb6e-b649-4bea-b21f-5cdeef83b50c",
   "metadata": {},
   "source": [
    "### Xarray and Memory usage\n",
    "Memory must be always taken into account. Each DataArray has an impact on it and to avoid issues like killing a notebook Kernel or Python process crash, users must avoid to open data bigger than memory.\n",
    "If the dataset isn't fitting in the available memory then the best option would be to load it through the help of Dask in a lazy approach. Later on in the tutorial we will introduce this concept.\n",
    "\n",
    "As the size of the data isn't too big here, we can continue without any problem."
   ]
  },
  {
   "cell_type": "code",
   "execution_count": null,
   "id": "7673e443-6693-4877-935d-47a3128e7164",
   "metadata": {},
   "outputs": [],
   "source": [
    "import numpy as np"
   ]
  },
  {
   "cell_type": "code",
   "execution_count": null,
   "id": "c5ed02b1-6832-491c-ab0b-de42100f9500",
   "metadata": {},
   "outputs": [],
   "source": [
    "print(f'{np.round(cgls_ds.NDVI.nbytes / 1024**2, 2)} MB') # all the data are automatically loaded into memory when calling xr.open_dataset"
   ]
  },
  {
   "cell_type": "markdown",
   "id": "69700a64-4675-4efe-8c5b-a6b72453fe53",
   "metadata": {},
   "source": [
    "## Renaming Coordinates and Data Variables "
   ]
  },
  {
   "cell_type": "markdown",
   "id": "01c04818-1662-473f-9efc-4baeeba883e3",
   "metadata": {},
   "source": [
    "As later on other datasets have dimensions named according to the more common triad lat,lon,time a renomination is needed."
   ]
  },
  {
   "cell_type": "code",
   "execution_count": null,
   "id": "ca389174-cf3a-44b8-84f7-b9cd720acee5",
   "metadata": {},
   "outputs": [],
   "source": [
    "cgls_ds.rename(x='lon', y='lat', t='time')"
   ]
  },
  {
   "cell_type": "code",
   "execution_count": null,
   "id": "9728baab-3d89-4ee2-8e0a-5c6a21d20119",
   "metadata": {},
   "outputs": [],
   "source": [
    "cgls_ds = cgls_ds.rename(x='lon', y='lat', t='time')"
   ]
  },
  {
   "cell_type": "code",
   "execution_count": null,
   "id": "15553ea9-d3d2-4e62-bec5-f0d905edd68c",
   "metadata": {},
   "outputs": [],
   "source": [
    "cgls_ds"
   ]
  },
  {
   "cell_type": "markdown",
   "id": "459febe8-1e1b-4faf-bd38-e7d675f3fdb0",
   "metadata": {},
   "source": [
    "## Selection methods\n",
    "\n",
    "As underneath DataArrays are Numpy Array objects (that implements the standard Python x[obj] (x: array, obj: int,slice) syntax) data can be accessed through the same approach of numpy indexing."
   ]
  },
  {
   "cell_type": "code",
   "execution_count": null,
   "id": "a1f6f8eb-fd39-4e94-8ec7-928f89e9de97",
   "metadata": {},
   "outputs": [],
   "source": [
    "cgls_ds.NDVI[0,100,100]"
   ]
  },
  {
   "cell_type": "markdown",
   "id": "8a64218e-7e30-4ee1-96a7-a8f662d7259c",
   "metadata": {},
   "source": [
    "or slicing"
   ]
  },
  {
   "cell_type": "code",
   "execution_count": null,
   "id": "b4cec786-f923-4617-9b5c-8def34bb877b",
   "metadata": {},
   "outputs": [],
   "source": [
    "cgls_ds.NDVI[0:5,100:110,100:110]"
   ]
  },
  {
   "cell_type": "markdown",
   "id": "286e8296-3432-4f33-a05c-0ff9cdcb1f92",
   "metadata": {},
   "source": [
    "As it isn't easy to remember the order of dimensions, Xarray really helps by making possible to select the position using names:\n",
    "\n",
    "- `.isel` -> selection based on positional index\n",
    "- `.sel`  -> selection based on coordinate values"
   ]
  },
  {
   "cell_type": "markdown",
   "id": "12d2708d-381b-458d-81e1-4851945d1a08",
   "metadata": {},
   "source": [
    "We first check the number of elements in each coordinate of the NDVI Data Variable using the built-in method sizes. Same result can be achieved querying each coordinate using the Python built-in function `len`."
   ]
  },
  {
   "cell_type": "code",
   "execution_count": null,
   "id": "ccee94a5-65ed-4518-9221-57188a8e3e08",
   "metadata": {},
   "outputs": [],
   "source": [
    "cgls_ds.sizes"
   ]
  },
  {
   "cell_type": "code",
   "execution_count": null,
   "outputs": [],
   "source": [
    "cgls_ds.NDVI.isel(time=0, lat=100, lon=100) # same as cgls_ds.NDVI[0,100,100]"
   ],
   "metadata": {
    "collapsed": false
   }
  },
  {
   "cell_type": "markdown",
   "id": "c8b620d5-c6cf-4661-aef4-c6fa46752627",
   "metadata": {},
   "source": [
    "The more common way to select a point is through the labeled coordinate using the `.sel` method."
   ]
  },
  {
   "cell_type": "code",
   "execution_count": null,
   "id": "a82f7ffc-ddfa-4792-82a3-53cef2d63b19",
   "metadata": {},
   "outputs": [],
   "source": [
    "cgls_ds.NDVI.sel(time='2022-01-01')"
   ]
  },
  {
   "cell_type": "markdown",
   "id": "cac8deb5-0e2d-4aeb-a487-044813ef2156",
   "metadata": {},
   "source": [
    "Time is easy to be used as there is a 1 to 1 correspondence with values in the index, float values are not that easy to be use and a small difference makes a big difference in results."
   ]
  },
  {
   "cell_type": "markdown",
   "id": "38bb07b5-093a-4fb0-a9ed-5b5b171344f6",
   "metadata": {},
   "source": [
    "\n",
    "Coordinates are always affected by precision issue so the best option would be to use the sampling method that will search for the closest point according to the method requested.\n",
    "\n",
    "Option for the method are:\n",
    "- pad / ffill: propagate last valid index value forward\n",
    "- backfill / bfill: propagate next valid index value backward\n",
    "- nearest: use nearest valid index value\n",
    "\n",
    "Another important parameter that can be set is the tolerance that specify the distance between original and the target. (abs(index\\[indexer] - target) <= tolerance) from [documentation](https://xarray.pydata.org/en/v0.17.0/generated/xarray.DataArray.sel.html#:~:text=xarray.DataArray.sel%20%C2%B6%20DataArray.sel%28indexers%3DNone%2C%20method%3DNone%2C%20tolerance%3DNone%2C%20drop%3DFalse%2C%20%2A%2Aindexers_kwargs%29%20%C2%B6,this%20method%20should%20use%20labels%20instead%20of%20integers.)."
   ]
  },
  {
   "cell_type": "code",
   "execution_count": null,
   "id": "40f9bc3b-701b-4380-99c1-18dadd856e34",
   "metadata": {},
   "outputs": [],
   "source": [
    "cgls_ds.sel(lat=46.3, lon=8.8, method='nearest')"
   ]
  },
  {
   "cell_type": "markdown",
   "id": "2fdf1fa1-3066-4d22-b3ca-59e563b1b07c",
   "metadata": {},
   "source": [
    ":::{warning}\n",
    "To select a single real value without specifying a method, you would need to specify the exact encoded value; not the one you see when printed.\n",
    ":::"
   ]
  },
  {
   "cell_type": "code",
   "execution_count": null,
   "id": "0c037f62-dbce-4796-9375-26f73c22d578",
   "metadata": {},
   "outputs": [],
   "source": [
    "cgls_ds.isel(lon=100).lon.values.item()"
   ]
  },
  {
   "cell_type": "code",
   "execution_count": null,
   "id": "e4e8d9d4-3612-4f43-bbaa-e72787175035",
   "metadata": {},
   "outputs": [],
   "source": [
    "cgls_ds.isel(lat=100).lat.values.item()"
   ]
  },
  {
   "cell_type": "code",
   "execution_count": null,
   "id": "b428ea4c-f0d8-4979-85e6-a7bb3b3f538d",
   "metadata": {},
   "outputs": [],
   "source": [
    "cgls_ds.sel(lat=46.336112857142965, lon=8.799356142858498)"
   ]
  },
  {
   "cell_type": "markdown",
   "id": "602cba2c-820a-4da9-acdc-ebeb262d28b3",
   "metadata": {},
   "source": [
    "That is why we use a `method`! It makes your life easier to deal with inexact matches."
   ]
  },
  {
   "cell_type": "markdown",
   "id": "d5975a87-33a0-4c7f-90c4-3603173eb600",
   "metadata": {},
   "source": [
    "As the exercise is focused on an Area Of Interest, this can be obtained through a bounding box defined with slices."
   ]
  },
  {
   "cell_type": "code",
   "execution_count": null,
   "id": "a5a2b34f-9e1a-4c42-92ac-fbe854d720f1",
   "metadata": {},
   "outputs": [],
   "source": [
    "NDVI_AOI = cgls_ds.NDVI.sel(lat=slice(46.5,44.5), lon=slice(8.5,11.5))\n",
    "NDVI_AOI"
   ]
  },
  {
   "cell_type": "markdown",
   "id": "08c59eaf-829f-41c5-a7f0-8b40e85ce82f",
   "metadata": {},
   "source": [
    ":::{tip}\n",
    "Have you noticed that latitudes are selected from the largest to the smallest values e.g. `46.5`, `44.5` while longitudes are selected from the smallest to the largest value e.g. `8.5`,`11.5`.\n",
    "**The reason is that you need to use the same order than the corresponding DataArray**.\n",
    ":::"
   ]
  },
  {
   "cell_type": "markdown",
   "id": "b4e2f1d6-75e7-443b-9632-3e98ee073128",
   "metadata": {},
   "source": [
    "## Plotting\n",
    "Plotting data can be easily obtained through matplotlib.pyplot back-end [matplotlib documentation](https://matplotlib.org/stable/index.html)"
   ]
  },
  {
   "cell_type": "code",
   "execution_count": null,
   "id": "aa797be1-6007-405d-8e97-ae1d19332582",
   "metadata": {},
   "outputs": [],
   "source": [
    "NDVI_AOI.isel(time=0).plot(cmap=\"RdYlGn\")"
   ]
  },
  {
   "cell_type": "markdown",
   "id": "153bd75d-440c-4840-8e57-890abe9d7d92",
   "metadata": {},
   "source": [
    "In the next episode we will learn more about visualization and how to make interactive plots using [holoviews](https://holoviews.org/)."
   ]
  },
  {
   "cell_type": "markdown",
   "id": "482a59fa-7505-4009-af56-88598e3d25a5",
   "metadata": {},
   "source": [
    "NDVI values are a little odd in comparison with standard NDVI range values \\[-1, +1]. This finds confirmation on the max values reported in the [Product User Manual](https://land.copernicus.eu/global/sites/cgls.vito.be/files/products/CGLOPS1_PUM_NDVI300m-V2_I1.20.pdf) (PUM)."
   ]
  },
  {
   "cell_type": "markdown",
   "id": "a8915dad-5d0d-4e7c-9f9f-6b5227da25e9",
   "metadata": {},
   "source": [
    "## NDVI characteristics from the Product User Manual (PUM)\n",
    "\n",
    "| layer name  | description                             | physical min | physical max | digital max | scaling | offset | No Data  |\n",
    "|-------------|-----------------------------------------|--------------|--------------|-------------|---------|--------|----------|\n",
    "| ndvi        | normalized difference vegetation index  | -0.08        | 0.92         | 250         | 1/250   | -0.08  | 254, 255 |\n",
    "| ndvi_unc    | uncertainty on ndvi                     | 0            | 1            | 1000        | 1/1000  | 0      | 65535    |\n",
    "| nobs        | number of observations                  | 0\t           | 32           | 32          | 1       | 0      | 255      |\n",
    "| qflag       | bitwise quality flag                    | -            | -            | 254         | 1       | 0      | 255      |\n",
    "\n",
    "\n",
    "from : [Copernicus Global Land Service NDVI 300 V2.0.1](https://land.copernicus.eu/global/sites/cgls.vito.be/files/products/CGLOPS1_PUM_NDVI300m-V2_I1.20.pdf)"
   ]
  },
  {
   "cell_type": "markdown",
   "id": "584818eb-4269-4384-a1a8-66fc906f229f",
   "metadata": {},
   "source": [
    "## Basic Computations\n",
    "\n",
    "- Arithmetics\n",
    "- Reductions"
   ]
  },
  {
   "cell_type": "markdown",
   "id": "92494cd9-83f4-4479-8eef-46ebe73019ca",
   "metadata": {},
   "source": [
    "Simple arithmetic can be obtained without worrying about dimensions and coordinates, using the same notation we use with `numpy`."
   ]
  },
  {
   "cell_type": "code",
   "execution_count": null,
   "id": "fcc8694b-91ae-425c-862d-fa57bdeb4fcc",
   "metadata": {},
   "outputs": [],
   "source": [
    "NDVI_AOI = NDVI_AOI* (1/250) - 0.08"
   ]
  },
  {
   "cell_type": "code",
   "execution_count": null,
   "id": "7724c0f9-fa33-451b-aab2-248cb64b94cf",
   "metadata": {},
   "outputs": [],
   "source": [
    "NDVI_AOI"
   ]
  },
  {
   "cell_type": "markdown",
   "id": "eb05c7c5-058d-4668-a376-41ad570ccb49",
   "metadata": {},
   "source": [
    "## Statistics\n",
    "\n",
    "All the standard statistic operations can be used such as `min`, `max`, `mean`. When no argument is passed to the function, the operation is done over all the dimension of the variable (same as with `numpy`)."
   ]
  },
  {
   "cell_type": "code",
   "execution_count": null,
   "id": "c411e4e0-6231-479f-bcfe-0edbeb25d207",
   "metadata": {},
   "outputs": [],
   "source": [
    "NDVI_AOI.min()"
   ]
  },
  {
   "cell_type": "markdown",
   "id": "7fdf9492-1605-4088-b5c0-3d370135223b",
   "metadata": {},
   "source": [
    "You can make a statistical operation over a dimension, for instance here to get the maximum value for each available time."
   ]
  },
  {
   "cell_type": "code",
   "execution_count": null,
   "id": "88e59fed-774e-4d5e-8330-404298638c31",
   "metadata": {},
   "outputs": [],
   "source": [
    "NDVI_AOI.max(dim='time')"
   ]
  },
  {
   "cell_type": "markdown",
   "id": "525e0e0a-9b30-4cff-b0be-50c3e2b86e6a",
   "metadata": {},
   "source": [
    "## Aggregation"
   ]
  },
  {
   "cell_type": "markdown",
   "id": "e25e379d-654f-4ee4-bc02-102e0d4a8994",
   "metadata": {},
   "source": [
    "We have data every 10 days. To obtain monthly values, we can group values per month and take the mean."
   ]
  },
  {
   "cell_type": "code",
   "execution_count": null,
   "id": "699313b8-1857-4e4b-abc3-70e76bc0f950",
   "metadata": {},
   "outputs": [],
   "source": [
    "NDVI_monthly = NDVI_AOI.groupby(NDVI_AOI.time.dt.month).mean()"
   ]
  },
  {
   "cell_type": "code",
   "execution_count": null,
   "id": "854b39ab-58f5-481a-8d72-d19a0ab543ca",
   "metadata": {},
   "outputs": [],
   "source": [
    "NDVI_monthly"
   ]
  },
  {
   "cell_type": "markdown",
   "id": "850d3e67-fd6b-4a4f-9ca7-6e25913c9ceb",
   "metadata": {},
   "source": [
    "As we have data from January to July, the time dimension is now `month` and takes values from `1` to `7`."
   ]
  },
  {
   "cell_type": "code",
   "execution_count": null,
   "id": "42ad129c-541f-4b66-9ba6-6a16b1225019",
   "metadata": {},
   "outputs": [],
   "source": [
    "NDVI_monthly.month"
   ]
  },
  {
   "cell_type": "markdown",
   "id": "55e7fb8d-acdf-485a-83ee-4abe7159821e",
   "metadata": {},
   "source": [
    "## Mask\n",
    "\n",
    "Not all values are valid and masking all the ones not in the valid range \\[-0.08, 0.92] is necessary. Masking can be achieved through the method `DataSet|Array.where(cond, other)` or `xr.where(cond, x, y)`.\n",
    "\n",
    "The difference consists in the possibility to specify the value in case the condition is positive or not; `.where` doesn't give this possibility."
   ]
  },
  {
   "cell_type": "code",
   "execution_count": null,
   "id": "65eac641-1b19-41e6-accf-76ca8abbcf12",
   "metadata": {},
   "outputs": [],
   "source": [
    "NDVI_masked = NDVI_AOI.where((NDVI_AOI >= -0.08) & (NDVI_AOI <= 0.92)) # by default where condition is false values are set to NA"
   ]
  },
  {
   "cell_type": "code",
   "execution_count": null,
   "id": "63d2ce0c-342b-4700-866b-5a3fc57ded83",
   "metadata": {},
   "outputs": [],
   "source": [
    "NDVI_masked.isel(time=0).plot()"
   ]
  },
  {
   "cell_type": "markdown",
   "id": "15738aae-ce50-4916-a39d-a390a2fc511c",
   "metadata": {},
   "source": [
    "To better visualize the mask with the help of `xr.where` a specific variable can be constructed. We will only have two values 0 or 1."
   ]
  },
  {
   "cell_type": "code",
   "execution_count": null,
   "id": "0ce5b391-7282-41a7-a2ba-cccaf5c292ac",
   "metadata": {},
   "outputs": [],
   "source": [
    "mask = xr.where((NDVI_AOI <= -0.08) | (NDVI_AOI >= 0.92), 1, 0)"
   ]
  },
  {
   "cell_type": "code",
   "execution_count": null,
   "id": "2fc7291e-5c3b-4860-aea0-7a4714889bc7",
   "metadata": {},
   "outputs": [],
   "source": [
    "mask.isel(time=0).plot()"
   ]
  },
  {
   "cell_type": "markdown",
   "id": "27c60e8d-9695-48dc-b3a1-95a8c33435c0",
   "metadata": {},
   "source": [
    "Plot a single point over the time dimension"
   ]
  },
  {
   "cell_type": "code",
   "execution_count": null,
   "id": "24b735b1-6503-4afa-b210-c6fa1a7249d5",
   "metadata": {},
   "outputs": [],
   "source": [
    "NDVI_masked.sel(lat=45.88, lon=8.63, method='nearest').plot()"
   ]
  },
  {
   "cell_type": "markdown",
   "id": "b34d4ed5-2b85-4548-aed8-0976a3b8f473",
   "metadata": {},
   "source": [
    "## Save xarray Dataset\n",
    "\n",
    "It is very often convenient to save intermediate or final results into a local file. We will learn more about the different file formats Xarray can handle but for now let's save it as a netCDF file. Check the file size after saving the result into netCDF."
   ]
  },
  {
   "cell_type": "code",
   "execution_count": null,
   "id": "630fda50-3dc1-43ce-81c5-3c7d7ef1ce70",
   "metadata": {},
   "outputs": [],
   "source": [
    "NDVI_masked.to_netcdf('C_GLS_NDVI_20220101_20220701_Lombardia_S3_2_masked.nc')"
   ]
  },
  {
   "cell_type": "markdown",
   "id": "6d6447b5-9e49-4aef-89d5-ac10b769317d",
   "metadata": {},
   "source": [
    "<div class=\"alert alert-success\">\n",
    "    <i class=\"fa-check-circle fa\" style=\"font-size: 22px;color:#666;\"></i> <b>Key Points</b>\n",
    "    <br>\n",
    "    <ul>\n",
    "        <li>Xarray Dataset and DataArray</li>\n",
    "        <li>Read and get metadata from local raster file</li>\n",
    "        <li>Dataset and DataArray selection</li>\n",
    "        <li>Aggregation and statistics</li>\n",
    "        <li>Masking values</li>\n",
    "    </ul>\n",
    "</div>"
   ]
  },
  {
   "cell_type": "markdown",
   "id": "59b44e2a-9e53-4db2-9772-3b8eb9a2f560",
   "metadata": {
    "pycharm": {
     "name": "#%% md\n"
    }
   },
   "source": [
    "## References\n",
    "\n",
    "```{bibliography}\n",
    ":style: alpha\n",
    ":filter: topic % \"xarray\"\n",
    "```"
   ]
  }
 ],
 "metadata": {
  "kernelspec": {
   "display_name": "Python 3 (ipykernel)",
   "language": "python",
   "name": "python3"
  },
  "language_info": {
   "codemirror_mode": {
    "name": "ipython",
    "version": 3
   },
   "file_extension": ".py",
   "mimetype": "text/x-python",
   "name": "python",
   "nbconvert_exporter": "python",
   "pygments_lexer": "ipython3",
   "version": "3.9.13"
  }
 },
 "nbformat": 4,
 "nbformat_minor": 5
}
